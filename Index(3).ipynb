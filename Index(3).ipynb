{
 "cells": [
  {
   "cell_type": "code",
   "execution_count": 2,
   "metadata": {},
   "outputs": [
    {
     "name": "stdout",
     "output_type": "stream",
     "text": [
      "dF1/dx = 2\n",
      "dF1/dy = 9*y**2\n",
      "dF2/dx = -4*x\n",
      "dF2/dy = 3\n",
      "13 [-0.72057164  0.67948232]\n",
      "5 [-0.36148936  0.4204497 ]\n"
     ]
    },
    {
     "data": {
      "image/png": "[encoded data removed]",
      "text/plain": [
       "<Figure size 432x288 with 1 Axes>"
      ]
     },
     "metadata": {
      "needs_background": "light"
     },
     "output_type": "display_data"
    }
   ],
   "source": [
    "from sympy import *\n",
    "import numpy as np\n",
    "from matplotlib import pylab as plt\n",
    "eps=1e-5\n",
    "def func(x: float, y:float)->object:\n",
    "    return 2*x + 3 * y ** 3 + 0.5, -2 * x ** 2 + 3 * y - 1\n",
    "\n",
    "x = np.arange(-10, 10 + 0.01, 0.01)\n",
    "y = np.arange(-10, 10 + 0.01, 0.01)\n",
    "X, Y = np.meshgrid(x, y)\n",
    "F1, F2 = func(X, Y) \n",
    "plt.contour(X, Y, F1, [0], colors=\"blue\")\n",
    "plt.contour(X, Y, F2, [0], colors=\"red\")\n",
    "plt.xlim([-2, 2])\n",
    "plt.ylim([-0.5, 2])\n",
    "def Jacobian(func: object, symbols: list)->object:\n",
    "    ''' Вычисление якобиана для системы'''\n",
    "    \n",
    "    sumb = symbol_1, symbol_2 = Symbol(symbols[0]), Symbol(symbols[1])\n",
    "    \n",
    "    df_1_dx_1 = func(*sumb)[0].diff(symbol_1)\n",
    "    df_1_dx_2 = func(*sumb)[0].diff(symbol_2)\n",
    "    df_2_dx_1 = func(*sumb)[1].diff(symbol_1)\n",
    "    df_2_dx_2 = func(*sumb)[1].diff(symbol_2)\n",
    "    \n",
    "    print(\"dF1/d%s = %s\" % (symbol_1, df_1_dx_1))\n",
    "    print(\"dF1/d%s = %s\" % (symbol_2, df_1_dx_2))    \n",
    "    print(\"dF2/d%s = %s\" % (symbol_1, df_2_dx_1))       \n",
    "    print(\"dF2/d%s = %s\" % (symbol_2, df_2_dx_2))   \n",
    "    \n",
    "    return lambdify((symbol_1, symbol_2), df_1_dx_1), lambdify((symbol_1, symbol_2),df_1_dx_2), lambdify((symbol_1, symbol_2), df_2_dx_1), lambdify((symbol_1, symbol_2),df_2_dx_2)\n",
    "jacobian = Jacobian(func, ['x', 'y'])\n",
    "def Newton(func: object, \n",
    "           jacobian: list, \n",
    "           eps: float, x_zer: list):\n",
    "    '''1'''\n",
    "    def calc_jacob(x: float, y: float)->\"np.array\":\n",
    "        return np.array([[jacobian[0](x, y), jacobian[1](x, y)], [jacobian[2](x, y), jacobian[3](x, y)]])\n",
    "    \n",
    "    def good_enough(x_cur: \"np.array\", x_prev: \"np.array\")->bool:\n",
    "        return np.linalg.norm(x_cur - x_prev) <= eps\n",
    "    \n",
    "    x_prev = x_zer\n",
    "    iteration = 0\n",
    "    results = []\n",
    "    flag = 1\n",
    "    \n",
    "    while flag:\n",
    "        x_cur = x_prev - np.linalg.matrix_power(calc_jacob(*x_prev), -1) @ np.array(func(*x_prev))\n",
    "        iteration += 1\n",
    "        \n",
    "        if good_enough(x_cur, x_prev):\n",
    "            flag = 0\n",
    "        x_prev = x_cur\n",
    "        \n",
    "    print(iteration, x_cur)\n",
    "Newton(func, jacobian, eps, (-2,-2))\n",
    "Newton(func, jacobian, eps, (-0.5, 0.5))\n",
    "plt.show()"
   ]
  },
  {
   "cell_type": "code",
   "execution_count": null,
   "metadata": {},
   "outputs": [],
   "source": []
  },
  {
   "cell_type": "code",
   "execution_count": null,
   "metadata": {},
   "outputs": [],
   "source": []
  }
 ],
 "metadata": {
  "kernelspec": {
   "display_name": "Python 3",
   "language": "python",
   "name": "python3"
  },
  "language_info": {
   "codemirror_mode": {
    "name": "ipython",
    "version": 3
   },
   "file_extension": ".py",
   "mimetype": "text/x-python",
   "name": "python",
   "nbconvert_exporter": "python",
   "pygments_lexer": "ipython3",
   "version": "3.6.7"
  }
 },
 "nbformat": 4,
 "nbformat_minor": 2
}
