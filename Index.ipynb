{
 "cells": [
  {
   "cell_type": "code",
   "execution_count": 2,
   "metadata": {},
   "outputs": [
    {
     "name": "stdout",
     "output_type": "stream",
     "text": [
      "Система:   2*x - cos(y) = 0\n",
      "          -3^x +   2*y  = 0\n",
      "20 [0.36654953 0.74793012]\n"
     ]
    },
    {
     "data": {
      "image/png": "[encoded data removed]",
      "text/plain": [
       "<Figure size 432x288 with 1 Axes>"
      ]
     },
     "metadata": {
      "needs_background": "light"
     },
     "output_type": "display_data"
    }
   ],
   "source": [
    "from sympy import *\n",
    "import numpy as np\n",
    "from matplotlib import pylab as plt\n",
    "\n",
    "def func(x: float, y: float)->list:\n",
    "    return np.array(( np.cos(y)/2, (3**x)/2 ))\n",
    "print(\"Система:   2*x - cos(y) = 0\")\n",
    "print(\"          -3^x +   2*y  = 0\")\n",
    "    \n",
    "x = np.arange(-5, 5, 0.1)\n",
    "y = np.arange(-5, 5, 0.1)\n",
    "plt.xlim([-0.75, 0.75])\n",
    "plt.ylim([-4, 4])\n",
    "plt.plot(func(x, y)[0], y, color=\"red\")\n",
    "plt.plot(x, func(x, y)[1], color=\"blue\")\n",
    "\n",
    "def fixed_point_iteration(func: object, \n",
    "                          eps:float, \n",
    "                          x_zer: \"np.array\")->list:\n",
    "    ''' Метод простых итераций для систем нелинейных уравнений'''\n",
    "    \n",
    "    def good_enough(x_cur: \"np.array\", x_prev: \"np.array\")->bool:\n",
    "        return np.linalg.norm(x_cur - x_prev) <= eps\n",
    "    \n",
    "    x_prev = x_zer\n",
    "    iteration = 0\n",
    "    results = []\n",
    "    flag = 1\n",
    "    \n",
    "    while flag:\n",
    "        x_cur = func(*x_prev)\n",
    "        iteration += 1\n",
    "        if good_enough(x_cur, x_prev):\n",
    "            flag = 0\n",
    "        x_prev = x_cur\n",
    "    \n",
    "    print(iteration, x_cur)\n",
    "    return iteration, x_cur\n",
    "x_zer = np.array((0, -2.5))\n",
    "eps = 1e-5\n",
    "results = fixed_point_iteration(func, eps, x_zer)\n",
    "plt.show()"
   ]
  },
  {
   "cell_type": "code",
   "execution_count": null,
   "metadata": {},
   "outputs": [],
   "source": []
  },
  {
   "cell_type": "code",
   "execution_count": null,
   "metadata": {},
   "outputs": [],
   "source": []
  }
 ],
 "metadata": {
  "kernelspec": {
   "display_name": "Python 3",
   "language": "python",
   "name": "python3"
  },
  "language_info": {
   "codemirror_mode": {
    "name": "ipython",
    "version": 3
   },
   "file_extension": ".py",
   "mimetype": "text/x-python",
   "name": "python",
   "nbconvert_exporter": "python",
   "pygments_lexer": "ipython3",
   "version": "3.6.7"
  }
 },
 "nbformat": 4,
 "nbformat_minor": 2
}
